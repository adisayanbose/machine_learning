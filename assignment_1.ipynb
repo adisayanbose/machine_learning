{
 "cells": [
  {
   "cell_type": "markdown",
   "id": "33c1054b-76d9-4d3f-81f1-d60cd7a2d31a",
   "metadata": {},
   "source": [
    "# LIST-1\n",
    "\n",
    "\n"
   ]
  },
  {
   "cell_type": "code",
   "execution_count": 2,
   "id": "7e3d5c1b-7a51-4c0c-8dab-94191e0ae7e5",
   "metadata": {},
   "outputs": [
    {
     "name": "stdout",
     "output_type": "stream",
     "text": [
      "1 2 3 4 5 "
     ]
    }
   ],
   "source": [
    "list=[1,2,3,4,5]\n",
    "for i in list:\n",
    "    print(i,end =\" \")"
   ]
  },
  {
   "cell_type": "markdown",
   "id": "7d39ba9a-a0b2-44a7-823d-fd9eeddc1cd8",
   "metadata": {},
   "source": [
    "# LIST-2"
   ]
  },
  {
   "cell_type": "code",
   "execution_count": 8,
   "id": "da1628fa-d9f5-4edd-af45-10f0062dc2d7",
   "metadata": {},
   "outputs": [],
   "source": [
    "def even(list):\n",
    "    for i in list:\n",
    "        if(i%2==1):\n",
    "            list.remove(i)\n",
    "    return list\n",
    "            \n",
    "    "
   ]
  },
  {
   "cell_type": "code",
   "execution_count": 9,
   "id": "d406d123-7239-45bd-915a-fd684768a357",
   "metadata": {},
   "outputs": [
    {
     "data": {
      "text/plain": [
       "[2, 4, 6]"
      ]
     },
     "execution_count": 9,
     "metadata": {},
     "output_type": "execute_result"
    }
   ],
   "source": [
    "list=[1,2,3,4,5,6]\n",
    "even(list)\n"
   ]
  },
  {
   "cell_type": "markdown",
   "id": "4313fbed-f411-450e-9256-bb495de461a9",
   "metadata": {},
   "source": [
    "# LIST-3"
   ]
  },
  {
   "cell_type": "code",
   "execution_count": 10,
   "id": "db1a4d79-a0cb-467f-815d-96bcaf8e56f0",
   "metadata": {},
   "outputs": [
    {
     "name": "stdout",
     "output_type": "stream",
     "text": [
      "[1, 2, 3, 5, 6, 7, 8]\n"
     ]
    }
   ],
   "source": [
    "list=[1,2,2,3,5,6,1,3,5,7,8]\n",
    "no_duplicate_list=[]\n",
    "for i in list:\n",
    "    if i not in no_duplicate_list:\n",
    "        no_duplicate_list.append(i)\n",
    "print(no_duplicate_list)"
   ]
  },
  {
   "cell_type": "markdown",
   "id": "1faba9b4-28f0-40b0-a119-3850ec9d6afd",
   "metadata": {},
   "source": [
    "# LIST-4\n"
   ]
  },
  {
   "cell_type": "code",
   "execution_count": 13,
   "id": "8a2a3833-13b2-4ea2-80db-b51f9ef6d860",
   "metadata": {},
   "outputs": [
    {
     "name": "stdout",
     "output_type": "stream",
     "text": [
      "[10, 12, 20, 34, 43, 45, 56, 65, 75, 78, 87, 90]\n",
      "87\n"
     ]
    }
   ],
   "source": [
    "list=[10,20,43,90,78,56,12,45,75,87,34,65]\n",
    "list.sort()\n",
    "print(list)\n",
    "print(list[-2])"
   ]
  },
  {
   "cell_type": "markdown",
   "id": "4e82c1d0-bbea-42f9-b6aa-2013711a4347",
   "metadata": {},
   "source": [
    "# LIST-5"
   ]
  },
  {
   "cell_type": "code",
   "execution_count": 19,
   "id": "213e8fe4-5c3b-4a94-8c44-ecac7333f0d8",
   "metadata": {},
   "outputs": [
    {
     "name": "stdout",
     "output_type": "stream",
     "text": [
      "[12, 45, 67, 23, 23, 24, 78, 23, 45, 41, 11]\n"
     ]
    }
   ],
   "source": [
    "import random\n",
    "list=[12,23,45,23,45,78,23,11,41,24,67]\n",
    "random.shuffle(list)\n",
    "print(list)\n"
   ]
  },
  {
   "cell_type": "markdown",
   "id": "d660d9c6-89ee-4c29-bae0-c4dc72768108",
   "metadata": {},
   "source": [
    "# TUPLES-1\n"
   ]
  },
  {
   "cell_type": "code",
   "execution_count": 1,
   "id": "51d2a636-39e5-4d1f-beda-67c56ca5d5c8",
   "metadata": {
    "scrolled": true
   },
   "outputs": [
    {
     "name": "stdout",
     "output_type": "stream",
     "text": [
      "(5, 2, 3, 6, 5, 4, 1)\n"
     ]
    }
   ],
   "source": [
    "mytuple=(1,4,5,6,3,2,5)\n",
    "tuple2=mytuple[::-1]\n",
    "print(tuple2)"
   ]
  },
  {
   "cell_type": "markdown",
   "id": "eefc2aa4-c65f-4e55-a468-515ddc866765",
   "metadata": {},
   "source": [
    "# TUPLES-2\n"
   ]
  },
  {
   "cell_type": "code",
   "execution_count": 2,
   "id": "7474ab47-553b-4e92-bc9d-d733686ea009",
   "metadata": {},
   "outputs": [],
   "source": [
    "def common(tuple1,tuple2):\n",
    "    set1=set(tuple1)\n",
    "    set2=set(tuple2)\n",
    "    print(tuple(set1.intersection(set2)))\n",
    "    "
   ]
  },
  {
   "cell_type": "code",
   "execution_count": 4,
   "id": "1bd9ea0e-8b5f-4cd9-87ff-95fe9414f13a",
   "metadata": {},
   "outputs": [
    {
     "name": "stdout",
     "output_type": "stream",
     "text": [
      "(65, 58, 15)\n"
     ]
    }
   ],
   "source": [
    "tuple1=(15,26,45,58,36,96,7,25,65)\n",
    "tuple2=(15,8,58,32,78,19,65,12)\n",
    "common(tuple1,tuple2)"
   ]
  },
  {
   "cell_type": "markdown",
   "id": "8ea3d7ec-6ce5-4201-a601-4761f2109b00",
   "metadata": {},
   "source": [
    "# TUPLE 3"
   ]
  },
  {
   "cell_type": "code",
   "execution_count": 5,
   "id": "56d0ce24-346f-4595-b547-f85c75938ad2",
   "metadata": {},
   "outputs": [
    {
     "name": "stdout",
     "output_type": "stream",
     "text": [
      "hello\n"
     ]
    }
   ],
   "source": [
    "tuple1=('h','e','l','l','o')\n",
    "str=\"\"\n",
    "for i in tuple1:\n",
    "    str=str+i\n",
    "print(str)"
   ]
  },
  {
   "cell_type": "markdown",
   "id": "2ed4fecb-a289-4929-85e4-11eab40ef0d2",
   "metadata": {},
   "source": [
    "# TUPLE 4\n"
   ]
  },
  {
   "cell_type": "code",
   "execution_count": 9,
   "id": "1d3ad78d-9288-492f-9fe3-0a8d518a7f73",
   "metadata": {},
   "outputs": [],
   "source": [
    "def find_index(element,tuple):\n",
    "    idx=-1\n",
    "    flag=False\n",
    "    for i in tuple:\n",
    "        if(element==i):\n",
    "            idx=idx+1\n",
    "            return idx\n",
    "        idx=idx+1\n",
    "    return -1"
   ]
  },
  {
   "cell_type": "code",
   "execution_count": 10,
   "id": "b8fb3a4e-1b7a-4122-ae8d-4cbebb4800fc",
   "metadata": {},
   "outputs": [
    {
     "data": {
      "text/plain": [
       "3"
      ]
     },
     "execution_count": 10,
     "metadata": {},
     "output_type": "execute_result"
    }
   ],
   "source": [
    "tuple=(1,2,3,45,6,78,9,11,25,)\n",
    "find_index(45,tuple)"
   ]
  },
  {
   "cell_type": "code",
   "execution_count": 11,
   "id": "92f2b4e6-3619-4637-a110-6ab66521556c",
   "metadata": {},
   "outputs": [
    {
     "data": {
      "text/plain": [
       "-1"
      ]
     },
     "execution_count": 11,
     "metadata": {},
     "output_type": "execute_result"
    }
   ],
   "source": [
    "find_index(95,tuple)"
   ]
  },
  {
   "cell_type": "markdown",
   "id": "0d9141e3-ba90-4c5a-83e5-66e17623e978",
   "metadata": {},
   "source": [
    "# TUPLE-5"
   ]
  },
  {
   "cell_type": "code",
   "execution_count": 14,
   "id": "e719fc89-d7e6-477a-aa5e-eb9f0e46f6b1",
   "metadata": {},
   "outputs": [
    {
     "name": "stdout",
     "output_type": "stream",
     "text": [
      "('h', 'e', 'l', 'l', 'o', 'w', 'o', 'r', 'l', 'd')\n"
     ]
    }
   ],
   "source": [
    "tuple1=('h','e','l','l','o')\n",
    "tuple2=('w','o','r','l','d')\n",
    "tuple3=tuple1+tuple2\n",
    "print(tuple3)"
   ]
  },
  {
   "cell_type": "markdown",
   "id": "3cef10bd-cc74-4c37-8290-23aa1535157d",
   "metadata": {},
   "source": [
    "# DICTIONARIES-1\n"
   ]
  },
  {
   "cell_type": "code",
   "execution_count": null,
   "id": "c05cda38-c238-4b64-99ec-dfad9c7462da",
   "metadata": {},
   "outputs": [],
   "source": []
  }
 ],
 "metadata": {
  "kernelspec": {
   "display_name": "Python 3 (ipykernel)",
   "language": "python",
   "name": "python3"
  },
  "language_info": {
   "codemirror_mode": {
    "name": "ipython",
    "version": 3
   },
   "file_extension": ".py",
   "mimetype": "text/x-python",
   "name": "python",
   "nbconvert_exporter": "python",
   "pygments_lexer": "ipython3",
   "version": "3.11.7"
  }
 },
 "nbformat": 4,
 "nbformat_minor": 5
}
