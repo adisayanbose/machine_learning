{
 "cells": [
  {
   "cell_type": "markdown",
   "id": "33c1054b-76d9-4d3f-81f1-d60cd7a2d31a",
   "metadata": {},
   "source": [
    "# list-1\n",
    "\n"
   ]
  },
  {
   "cell_type": "code",
   "execution_count": 2,
   "id": "7e3d5c1b-7a51-4c0c-8dab-94191e0ae7e5",
   "metadata": {},
   "outputs": [
    {
     "name": "stdout",
     "output_type": "stream",
     "text": [
      "1 2 3 4 5 "
     ]
    }
   ],
   "source": [
    "list=[1,2,3,4,5]\n",
    "for i in list:\n",
    "    print(i,end =\" \")"
   ]
  },
  {
   "cell_type": "markdown",
   "id": "7d39ba9a-a0b2-44a7-823d-fd9eeddc1cd8",
   "metadata": {},
   "source": [
    "# LIST-2"
   ]
  },
  {
   "cell_type": "code",
   "execution_count": 8,
   "id": "da1628fa-d9f5-4edd-af45-10f0062dc2d7",
   "metadata": {},
   "outputs": [],
   "source": [
    "def even(list):\n",
    "    for i in list:\n",
    "        if(i%2==1):\n",
    "            list.remove(i)\n",
    "    return list\n",
    "            \n",
    "    "
   ]
  },
  {
   "cell_type": "code",
   "execution_count": 9,
   "id": "d406d123-7239-45bd-915a-fd684768a357",
   "metadata": {},
   "outputs": [
    {
     "data": {
      "text/plain": [
       "[2, 4, 6]"
      ]
     },
     "execution_count": 9,
     "metadata": {},
     "output_type": "execute_result"
    }
   ],
   "source": [
    "list=[1,2,3,4,5,6]\n",
    "even(list)\n"
   ]
  },
  {
   "cell_type": "markdown",
   "id": "4313fbed-f411-450e-9256-bb495de461a9",
   "metadata": {},
   "source": [
    "# list 3"
   ]
  },
  {
   "cell_type": "code",
   "execution_count": 10,
   "id": "db1a4d79-a0cb-467f-815d-96bcaf8e56f0",
   "metadata": {},
   "outputs": [
    {
     "name": "stdout",
     "output_type": "stream",
     "text": [
      "[1, 2, 3, 5, 6, 7, 8]\n"
     ]
    }
   ],
   "source": [
    "list=[1,2,2,3,5,6,1,3,5,7,8]\n",
    "no_duplicate_list=[]\n",
    "for i in list:\n",
    "    if i not in no_duplicate_list:\n",
    "        no_duplicate_list.append(i)\n",
    "print(no_duplicate_list)"
   ]
  },
  {
   "cell_type": "markdown",
   "id": "1faba9b4-28f0-40b0-a119-3850ec9d6afd",
   "metadata": {},
   "source": [
    "# list-4\n"
   ]
  },
  {
   "cell_type": "code",
   "execution_count": 13,
   "id": "8a2a3833-13b2-4ea2-80db-b51f9ef6d860",
   "metadata": {},
   "outputs": [
    {
     "name": "stdout",
     "output_type": "stream",
     "text": [
      "[10, 12, 20, 34, 43, 45, 56, 65, 75, 78, 87, 90]\n",
      "87\n"
     ]
    }
   ],
   "source": [
    "list=[10,20,43,90,78,56,12,45,75,87,34,65]\n",
    "list.sort()\n",
    "print(list)\n",
    "print(list[-2])"
   ]
  },
  {
   "cell_type": "markdown",
   "id": "4e82c1d0-bbea-42f9-b6aa-2013711a4347",
   "metadata": {},
   "source": [
    "# list-5"
   ]
  },
  {
   "cell_type": "code",
   "execution_count": 19,
   "id": "213e8fe4-5c3b-4a94-8c44-ecac7333f0d8",
   "metadata": {},
   "outputs": [
    {
     "name": "stdout",
     "output_type": "stream",
     "text": [
      "[12, 45, 67, 23, 23, 24, 78, 23, 45, 41, 11]\n"
     ]
    }
   ],
   "source": [
    "import random\n",
    "list=[12,23,45,23,45,78,23,11,41,24,67]\n",
    "random.shuffle(list)\n",
    "print(list)\n"
   ]
  },
  {
   "cell_type": "code",
   "execution_count": null,
   "id": "d880d440-d740-4482-bed0-fe28a5adf329",
   "metadata": {},
   "outputs": [],
   "source": []
  }
 ],
 "metadata": {
  "kernelspec": {
   "display_name": "Python 3 (ipykernel)",
   "language": "python",
   "name": "python3"
  },
  "language_info": {
   "codemirror_mode": {
    "name": "ipython",
    "version": 3
   },
   "file_extension": ".py",
   "mimetype": "text/x-python",
   "name": "python",
   "nbconvert_exporter": "python",
   "pygments_lexer": "ipython3",
   "version": "3.11.7"
  }
 },
 "nbformat": 4,
 "nbformat_minor": 5
}
